{
  "nbformat": 4,
  "nbformat_minor": 0,
  "metadata": {
    "colab": {
      "name": "Copy of Python Programming - Numpy Practice",
      "provenance": [],
      "collapsed_sections": [],
      "toc_visible": true,
      "include_colab_link": true
    },
    "kernelspec": {
      "name": "python3",
      "display_name": "Python 3"
    }
  },
  "cells": [
    {
      "cell_type": "markdown",
      "metadata": {
        "id": "view-in-github",
        "colab_type": "text"
      },
      "source": [
        "<a href=\"https://colab.research.google.com/github/Mildredkulei7/Moringa_Prep_W3/blob/main/Copy_of_Python_Programming_Numpy_Practice.ipynb\" target=\"_parent\"><img src=\"https://colab.research.google.com/assets/colab-badge.svg\" alt=\"Open In Colab\"/></a>"
      ]
    },
    {
      "cell_type": "markdown",
      "metadata": {
        "id": "lLLVoxQQDrNO"
      },
      "source": [
        "<font color=\"green\">*To start working on this notebook, or any other notebook that we will use in the Moringa Data Science Course, we will need to save our own copy of it. We can do this by clicking File > Save a Copy in Drive. We will then be able to make edits to our own copy of this notebook.*</font>"
      ]
    },
    {
      "cell_type": "markdown",
      "metadata": {
        "id": "-7J_lE4-YPLq"
      },
      "source": [
        "### <font color=\"green\">1.1 Challenge: Importing our Library</font>"
      ]
    },
    {
      "cell_type": "code",
      "metadata": {
        "id": "9l8Juvt-bRgz"
      },
      "source": [
        "# Let's import numpy\n",
        "#\n",
        "import numpy as np"
      ],
      "execution_count": 3,
      "outputs": []
    },
    {
      "cell_type": "markdown",
      "metadata": {
        "id": "cnaEkfAtY5n1"
      },
      "source": [
        "### <font color=\"green\">1.2 Challenge: Creating an Array</font>"
      ]
    },
    {
      "cell_type": "code",
      "metadata": {
        "id": "43Q-yy08bG0B",
        "colab": {
          "base_uri": "https://localhost:8080/"
        },
        "outputId": "def86acc-883a-4e86-e1c5-7ca891131c5f"
      },
      "source": [
        "# Challenge 1 \n",
        "# Create an array of five zeros\n",
        "#\n",
        "zeros_arr = np.zeros(5) \n",
        "\n",
        "print(zeros_arr)"
      ],
      "execution_count": 4,
      "outputs": [
        {
          "output_type": "stream",
          "text": [
            "[0. 0. 0. 0. 0.]\n"
          ],
          "name": "stdout"
        }
      ]
    },
    {
      "cell_type": "code",
      "metadata": {
        "id": "Y-ZMS064b8Ck",
        "colab": {
          "base_uri": "https://localhost:8080/"
        },
        "outputId": "382fa5c4-fb5d-4936-e1e9-bd809bc89120"
      },
      "source": [
        "# Challenge 2\n",
        "# Create an array of six ones \n",
        "#\n",
        "ones_arr = np.ones(5) \n",
        "\n",
        "print(ones_arr)"
      ],
      "execution_count": 5,
      "outputs": [
        {
          "output_type": "stream",
          "text": [
            "[1. 1. 1. 1. 1.]\n"
          ],
          "name": "stdout"
        }
      ]
    },
    {
      "cell_type": "code",
      "metadata": {
        "id": "FOaIYiBGb74H",
        "colab": {
          "base_uri": "https://localhost:8080/"
        },
        "outputId": "0b3f44d1-7295-45d4-9ed1-a8914e201d6b"
      },
      "source": [
        "# Challenge 3\n",
        "# Create an array of the integers from 10 to 50\n",
        "#\n",
        "arr = np.arange(10,50)\n",
        "\n",
        "print(arr)"
      ],
      "execution_count": 9,
      "outputs": [
        {
          "output_type": "stream",
          "text": [
            "[10 11 12 13 14 15 16 17 18 19 20 21 22 23 24 25 26 27 28 29 30 31 32 33\n",
            " 34 35 36 37 38 39 40 41 42 43 44 45 46 47 48 49]\n"
          ],
          "name": "stdout"
        }
      ]
    },
    {
      "cell_type": "code",
      "metadata": {
        "id": "FmmY6xLSb7t8",
        "colab": {
          "base_uri": "https://localhost:8080/"
        },
        "outputId": "83f47ece-22f7-4c8c-b4cf-bc80cfe19b02"
      },
      "source": [
        "# Challenge 4\n",
        "# Create an array of odd integers from 20 to 60\n",
        "#\n",
        "odd_arr = np.arange(21,60,2)\n",
        "\n",
        "print(odd_arr)"
      ],
      "execution_count": 12,
      "outputs": [
        {
          "output_type": "stream",
          "text": [
            "[21 23 25 27 29 31 33 35 37 39 41 43 45 47 49 51 53 55 57 59]\n"
          ],
          "name": "stdout"
        }
      ]
    },
    {
      "cell_type": "code",
      "metadata": {
        "id": "ht0VpxEXb7kG",
        "colab": {
          "base_uri": "https://localhost:8080/"
        },
        "outputId": "c6cb86e0-1bc0-46a4-df5f-06dbc9ee5ccd"
      },
      "source": [
        "# Challenge 5\n",
        "# Create an array of 25 random numbers \n",
        "#\n",
        "random_arr = np.random.rand(25)\n",
        "\n",
        "print(random_arr)"
      ],
      "execution_count": 15,
      "outputs": [
        {
          "output_type": "stream",
          "text": [
            "[0.7865834  0.53957603 0.73130357 0.57550158 0.42691112 0.35351579\n",
            " 0.6357695  0.97642049 0.90597623 0.44016974 0.86325295 0.45376042\n",
            " 0.21096466 0.99028461 0.00305343 0.38488283 0.654028   0.97440956\n",
            " 0.49488353 0.70854962 0.26625798 0.96776621 0.00212666 0.83438551\n",
            " 0.02099662]\n"
          ],
          "name": "stdout"
        }
      ]
    },
    {
      "cell_type": "markdown",
      "metadata": {
        "id": "ICXG_crZZAw8"
      },
      "source": [
        "### <font color=\"green\">1.3 Working with Matrices</font>"
      ]
    },
    {
      "cell_type": "code",
      "metadata": {
        "id": "CnM3qTE1b7YF",
        "colab": {
          "base_uri": "https://localhost:8080/"
        },
        "outputId": "6889738d-9301-4d64-eba6-84acc4e7a13b"
      },
      "source": [
        "# Challenge 6\n",
        "# Write code to replicate the expected matrix output \n",
        "# of the cell shown below\n",
        "# \n",
        "x = np.arange(1,21).reshape(5,4)\n",
        "\n",
        "print(x)"
      ],
      "execution_count": 4,
      "outputs": [
        {
          "output_type": "stream",
          "text": [
            "[[ 1  2  3  4]\n",
            " [ 5  6  7  8]\n",
            " [ 9 10 11 12]\n",
            " [13 14 15 16]\n",
            " [17 18 19 20]]\n"
          ],
          "name": "stdout"
        }
      ]
    },
    {
      "cell_type": "code",
      "metadata": {
        "id": "K5-uPXdEfgjU",
        "colab": {
          "base_uri": "https://localhost:8080/",
          "height": 102
        },
        "outputId": "3d6b0e1d-8e5b-4913-c391-443af2ed2688"
      },
      "source": [
        "# Challenge 6: Expected Output\n",
        "# [Do not run this cell]\n",
        "# The output of this cell will disappear when run"
      ],
      "execution_count": null,
      "outputs": [
        {
          "output_type": "stream",
          "text": [
            "[[ 1  2  3  4]\n",
            " [ 5  6  7  8]\n",
            " [ 9 10 11 12]\n",
            " [13 14 15 16]\n",
            " [17 18 19 20]]\n"
          ],
          "name": "stdout"
        }
      ]
    },
    {
      "cell_type": "code",
      "metadata": {
        "id": "EH63OkyEb7NU",
        "colab": {
          "base_uri": "https://localhost:8080/"
        },
        "outputId": "8482d568-da6b-400a-dbdb-0d8ccff28374"
      },
      "source": [
        "# Challenge 7\n",
        "# Let's write code to replicate the expected matrix output \n",
        "# of the cell shown below\n",
        "# \n",
        "my_mat = np.array(([[14,15,16],[18,19,20]]))\n",
        "\n",
        "print(my_mat)"
      ],
      "execution_count": 22,
      "outputs": [
        {
          "output_type": "stream",
          "text": [
            "[[14 15 16]\n",
            " [18 19 20]]\n"
          ],
          "name": "stdout"
        }
      ]
    },
    {
      "cell_type": "code",
      "metadata": {
        "id": "avA-papFb7Fl",
        "colab": {
          "base_uri": "https://localhost:8080/",
          "height": 51
        },
        "outputId": "aa252745-ee8f-48db-a0ea-f4dad2484177"
      },
      "source": [
        "# Challenge 7: Expected Output\n",
        "# [Do not run this cell]\n",
        "# Running this cell will cause the output below to disappear"
      ],
      "execution_count": null,
      "outputs": [
        {
          "output_type": "stream",
          "text": [
            "[[14 15 16]\n",
            " [18 19 20]]\n"
          ],
          "name": "stdout"
        }
      ]
    },
    {
      "cell_type": "code",
      "metadata": {
        "id": "nLV_X3kQb68p",
        "colab": {
          "base_uri": "https://localhost:8080/"
        },
        "outputId": "10e09053-87f9-448b-c700-7fbd7dcbef54"
      },
      "source": [
        "# Challenge 8\n",
        "# Let's write code to replicate the expected matrix output \n",
        "# of the cell shown below\n",
        "# \n",
        "row = my_mat[1,2]\n",
        "print(row)"
      ],
      "execution_count": 24,
      "outputs": [
        {
          "output_type": "stream",
          "text": [
            "20\n"
          ],
          "name": "stdout"
        }
      ]
    },
    {
      "cell_type": "code",
      "metadata": {
        "id": "DxEU0hOEb6y2",
        "colab": {
          "base_uri": "https://localhost:8080/",
          "height": 34
        },
        "outputId": "e206bcc9-90fe-4ff0-f412-60487537707f"
      },
      "source": [
        "# Challenge 8: Expected Output\n",
        "# [Do not run this cell]\n",
        "# Running this cell will cause the output below to disappear"
      ],
      "execution_count": null,
      "outputs": [
        {
          "output_type": "execute_result",
          "data": {
            "text/plain": [
              "20"
            ]
          },
          "metadata": {
            "tags": []
          },
          "execution_count": 13
        }
      ]
    },
    {
      "cell_type": "code",
      "metadata": {
        "id": "Dau4PAJfb6oO",
        "colab": {
          "base_uri": "https://localhost:8080/"
        },
        "outputId": "e4d96f8b-dbdd-46a4-eb5d-6c19e13c1d62"
      },
      "source": [
        "# Challenge 9\n",
        "# Let's write code to replicate the expected matrix output \n",
        "# of the cell shown below\n",
        "#\n",
        "z = np.arange(13,21).reshape(2,4)\n",
        "\n",
        "print(z)"
      ],
      "execution_count": 25,
      "outputs": [
        {
          "output_type": "stream",
          "text": [
            "[[13 14 15 16]\n",
            " [17 18 19 20]]\n"
          ],
          "name": "stdout"
        }
      ]
    },
    {
      "cell_type": "code",
      "metadata": {
        "id": "Pgj7NWePb6fa",
        "colab": {
          "base_uri": "https://localhost:8080/",
          "height": 51
        },
        "outputId": "c4bc7e8c-bf79-4838-9df5-cf0ee199eec6"
      },
      "source": [
        "# Challenge 9: Expected Output\n",
        "# [Do not run this cell]\n",
        "# Running this cell will cause the output below to disappear"
      ],
      "execution_count": null,
      "outputs": [
        {
          "output_type": "stream",
          "text": [
            "[[13 14 15 16]\n",
            " [17 18 19 20]]\n"
          ],
          "name": "stdout"
        }
      ]
    },
    {
      "cell_type": "code",
      "metadata": {
        "id": "jLp-pwUyb6R_",
        "colab": {
          "base_uri": "https://localhost:8080/"
        },
        "outputId": "7909b056-071f-4711-f703-4f6c8cc4b8b4"
      },
      "source": [
        "# Challenge 10\n",
        "# Let's find out the mean of first column values \n",
        "# in our matrix in challenge 6 above\n",
        "# \n",
        "x.min()"
      ],
      "execution_count": 27,
      "outputs": [
        {
          "output_type": "execute_result",
          "data": {
            "text/plain": [
              "1"
            ]
          },
          "metadata": {
            "tags": []
          },
          "execution_count": 27
        }
      ]
    },
    {
      "cell_type": "code",
      "metadata": {
        "id": "i5cFO78Jb6Ee",
        "colab": {
          "base_uri": "https://localhost:8080/"
        },
        "outputId": "9347f2ee-cece-4cd8-9255-42d6bb64e988"
      },
      "source": [
        "# Challenge 11\n",
        "# Let's find out the sum of second column values \n",
        "# in our matrix in challenge 6 above\n",
        "#\n",
        "results = np.sum(x[:,1])\n",
        "print(results)"
      ],
      "execution_count": 5,
      "outputs": [
        {
          "output_type": "stream",
          "text": [
            "50\n"
          ],
          "name": "stdout"
        }
      ]
    },
    {
      "cell_type": "code",
      "metadata": {
        "id": "kjS2h2jSj7_v",
        "colab": {
          "base_uri": "https://localhost:8080/"
        },
        "outputId": "004a8ee7-d844-441f-e50b-de5c9720fcb0"
      },
      "source": [
        "# Challenge 12\n",
        "# How do we find out the sum of all columns of the challenge 6 output\n",
        "# The resulting array should contain the sums of each column\n",
        "# \n",
        "results = x.sum(axis=0)\n",
        "print(results)"
      ],
      "execution_count": 12,
      "outputs": [
        {
          "output_type": "stream",
          "text": [
            "[45 50 55 60]\n"
          ],
          "name": "stdout"
        }
      ]
    }
  ]
}